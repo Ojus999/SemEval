{
 "cells": [
  {
   "cell_type": "code",
   "execution_count": null,
   "id": "74b76481",
   "metadata": {},
   "outputs": [],
   "source": [
    "import pandas as pd\n",
    "from sklearn.model_selection import train_test_split\n",
    "from sklearn.feature_extraction.text import CountVectorizer\n",
    "from sklearn.naive_bayes import MultinomialNB\n",
    "from sklearn.svm import SVC\n",
    "from sklearn.ensemble import RandomForestClassifier\n",
    "from sklearn.metrics import accuracy_score, classification_report, f1_score\n",
    "from sklearn.preprocessing import LabelEncoder\n",
    "\n",
    "# Assuming 'train' is your DataFrame with 'utterance' and 'emotion' columns for training\n",
    "# Assuming 'val' is your DataFrame with 'utterance' and 'emotion' columns for validation\n",
    "\n",
    "# Encode emotion labels\n",
    "label_encoder = LabelEncoder()\n",
    "df['emotion_encoded'] = label_encoder.fit_transform(df['label'])\n",
    "val_df['emotion_encoded'] = label_encoder.transform(val_df['label'])\n",
    "\n",
    "# Define a list of models\n",
    "models = [MultinomialNB(), SVC(), RandomForestClassifier()]\n",
    "\n",
    "vectorizer = CountVectorizer()\n",
    "\n",
    "for model in models:\n",
    "    # Vectorize the 'utterance' column in the training set\n",
    "    X_train = vectorizer.fit_transform(df['utterance'])\n",
    "    y_train = df['emotion_encoded']\n",
    "\n",
    "    # Vectorize the 'utterance' column in the validation set\n",
    "    X_val = vectorizer.transform(val_df['utterance'])\n",
    "    y_val = val_df['emotion_encoded']\n",
    "\n",
    "    # Fit the model on the training set\n",
    "    model.fit(X_train, y_train)\n",
    "\n",
    "    # Predict the emotions on the validation set\n",
    "    predictions = model.predict(X_val)\n",
    "\n",
    "    # Evaluate the model on the validation set\n",
    "    accuracy = accuracy_score(y_val, predictions)\n",
    "    report = classification_report(y_val, predictions)\n",
    "\n",
    "    # Calculate the weighted F1 score on the validation set\n",
    "    weighted_f1 = f1_score(y_val, predictions, average='weighted')\n",
    "\n",
    "    #print(f\"Model: {model._class.name_}\")\n",
    "    print(f\"Validation Accuracy: {accuracy}\")\n",
    "    print(\"Validation Classification Report:\\n\", report)\n",
    "    print(f\"Validation Weighted F1 Score: {weighted_f1}\")\n",
    "    print(\"-\" * 50)"
   ]
  }
 ],
 "metadata": {
  "kernelspec": {
   "display_name": "Python 3 (ipykernel)",
   "language": "python",
   "name": "python3"
  },
  "language_info": {
   "codemirror_mode": {
    "name": "ipython",
    "version": 3
   },
   "file_extension": ".py",
   "mimetype": "text/x-python",
   "name": "python",
   "nbconvert_exporter": "python",
   "pygments_lexer": "ipython3",
   "version": "3.11.3"
  }
 },
 "nbformat": 4,
 "nbformat_minor": 5
}
